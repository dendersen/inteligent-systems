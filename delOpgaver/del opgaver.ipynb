{
 "cells": [
  {
   "cell_type": "markdown",
   "metadata": {},
   "source": [
    "# Del 1 Visualisering af 1-NN ved brug af Python og maplotlib\n",
    "* 1. Class Point, som initialiseres på skærmen med et lable.\n",
    "\n",
    "vi har lavet classen point() som finddes i plottingTools.point();"
   ]
  },
  {
   "cell_type": "code",
   "execution_count": null,
   "metadata": {},
   "outputs": [],
   "source": [
    "from random import randint\n",
    "\n",
    "from plotingTools.point import Point\n",
    "import matplotlib.pyplot as plt\n",
    "from plotingTools.colorList import colors\n",
    "from plotingTools.plotter import plotn\n",
    "\n",
    "arr = [Point(randint(0,100),randint(0,100),colors[randint(0,len(colors))]) for i in range(0,100)]\n",
    "\n",
    "plotn(arr)"
   ]
  }
 ],
 "metadata": {
  "kernelspec": {
   "display_name": "Python 3.9.12 ('base')",
   "language": "python",
   "name": "python3"
  },
  "language_info": {
   "name": "python",
   "version": "3.9.12"
  },
  "orig_nbformat": 4,
  "vscode": {
   "interpreter": {
    "hash": "a077222d77dfe082b8f1dd562ad70e458ac2ab76993a0b248ab0476e32e9e8dd"
   }
  }
 },
 "nbformat": 4,
 "nbformat_minor": 2
}
