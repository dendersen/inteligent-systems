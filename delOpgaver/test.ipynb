{
 "cells": [
  {
   "cell_type": "code",
   "execution_count": 2,
   "metadata": {},
   "outputs": [
    {
     "ename": "NameError",
     "evalue": "name 'np' is not defined",
     "output_type": "error",
     "traceback": [
      "\u001b[1;31m---------------------------------------------------------------------------\u001b[0m",
      "\u001b[1;31mNameError\u001b[0m                                 Traceback (most recent call last)",
      "\u001b[1;32mc:\\DDU2\\kNN-algorithm\\inteligent-systems\\delOpgaver\\test.ipynb Cell 1\u001b[0m in \u001b[0;36m<cell line: 4>\u001b[1;34m()\u001b[0m\n\u001b[0;32m      <a href='vscode-notebook-cell:/c%3A/DDU2/kNN-algorithm/inteligent-systems/delOpgaver/test.ipynb#W0sZmlsZQ%3D%3D?line=0'>1</a>\u001b[0m \u001b[39mimport\u001b[39;00m \u001b[39mmatplotlib\u001b[39;00m\u001b[39m.\u001b[39;00m\u001b[39mpyplot\u001b[39;00m \u001b[39mas\u001b[39;00m \u001b[39mplt\u001b[39;00m\n\u001b[0;32m      <a href='vscode-notebook-cell:/c%3A/DDU2/kNN-algorithm/inteligent-systems/delOpgaver/test.ipynb#W0sZmlsZQ%3D%3D?line=2'>3</a>\u001b[0m point_count \u001b[39m=\u001b[39m \u001b[39m10\u001b[39m\n\u001b[1;32m----> <a href='vscode-notebook-cell:/c%3A/DDU2/kNN-algorithm/inteligent-systems/delOpgaver/test.ipynb#W0sZmlsZQ%3D%3D?line=3'>4</a>\u001b[0m x_point \u001b[39m=\u001b[39m [np\u001b[39m.\u001b[39mrandom\u001b[39m.\u001b[39mrandint(\u001b[39m1\u001b[39m,\u001b[39m20\u001b[39m) \u001b[39mfor\u001b[39;00m n \u001b[39min\u001b[39;00m \u001b[39mrange\u001b[39m(point_count)]\n\u001b[0;32m      <a href='vscode-notebook-cell:/c%3A/DDU2/kNN-algorithm/inteligent-systems/delOpgaver/test.ipynb#W0sZmlsZQ%3D%3D?line=4'>5</a>\u001b[0m y_point \u001b[39m=\u001b[39m [np\u001b[39m.\u001b[39mrandom\u001b[39m.\u001b[39mrandint(\u001b[39m1\u001b[39m,\u001b[39m20\u001b[39m) \u001b[39mfor\u001b[39;00m n \u001b[39min\u001b[39;00m \u001b[39mrange\u001b[39m(point_count)]\n\u001b[0;32m      <a href='vscode-notebook-cell:/c%3A/DDU2/kNN-algorithm/inteligent-systems/delOpgaver/test.ipynb#W0sZmlsZQ%3D%3D?line=5'>6</a>\u001b[0m x_red \u001b[39m=\u001b[39m []\n",
      "\u001b[1;32mc:\\DDU2\\kNN-algorithm\\inteligent-systems\\delOpgaver\\test.ipynb Cell 1\u001b[0m in \u001b[0;36m<listcomp>\u001b[1;34m(.0)\u001b[0m\n\u001b[0;32m      <a href='vscode-notebook-cell:/c%3A/DDU2/kNN-algorithm/inteligent-systems/delOpgaver/test.ipynb#W0sZmlsZQ%3D%3D?line=0'>1</a>\u001b[0m \u001b[39mimport\u001b[39;00m \u001b[39mmatplotlib\u001b[39;00m\u001b[39m.\u001b[39;00m\u001b[39mpyplot\u001b[39;00m \u001b[39mas\u001b[39;00m \u001b[39mplt\u001b[39;00m\n\u001b[0;32m      <a href='vscode-notebook-cell:/c%3A/DDU2/kNN-algorithm/inteligent-systems/delOpgaver/test.ipynb#W0sZmlsZQ%3D%3D?line=2'>3</a>\u001b[0m point_count \u001b[39m=\u001b[39m \u001b[39m10\u001b[39m\n\u001b[1;32m----> <a href='vscode-notebook-cell:/c%3A/DDU2/kNN-algorithm/inteligent-systems/delOpgaver/test.ipynb#W0sZmlsZQ%3D%3D?line=3'>4</a>\u001b[0m x_point \u001b[39m=\u001b[39m [np\u001b[39m.\u001b[39mrandom\u001b[39m.\u001b[39mrandint(\u001b[39m1\u001b[39m,\u001b[39m20\u001b[39m) \u001b[39mfor\u001b[39;00m n \u001b[39min\u001b[39;00m \u001b[39mrange\u001b[39m(point_count)]\n\u001b[0;32m      <a href='vscode-notebook-cell:/c%3A/DDU2/kNN-algorithm/inteligent-systems/delOpgaver/test.ipynb#W0sZmlsZQ%3D%3D?line=4'>5</a>\u001b[0m y_point \u001b[39m=\u001b[39m [np\u001b[39m.\u001b[39mrandom\u001b[39m.\u001b[39mrandint(\u001b[39m1\u001b[39m,\u001b[39m20\u001b[39m) \u001b[39mfor\u001b[39;00m n \u001b[39min\u001b[39;00m \u001b[39mrange\u001b[39m(point_count)]\n\u001b[0;32m      <a href='vscode-notebook-cell:/c%3A/DDU2/kNN-algorithm/inteligent-systems/delOpgaver/test.ipynb#W0sZmlsZQ%3D%3D?line=5'>6</a>\u001b[0m x_red \u001b[39m=\u001b[39m []\n",
      "\u001b[1;31mNameError\u001b[0m: name 'np' is not defined"
     ]
    }
   ],
   "source": [
    "import matplotlib.pyplot as plt\n",
    "\n",
    "point_count = 10\n",
    "x_point = [np.random.randint(1,20) for n in range(point_count)]\n",
    "y_point = [np.random.randint(1,20) for n in range(point_count)]\n",
    "x_red = []\n",
    "y_red = []\n",
    "x_blue = []\n",
    "y_blue = []\n",
    "for i in range(0,10):\n",
    "  if i%2 == 1:\n",
    "    x_red.append(x_point[i])\n",
    "    y_red.append(y_point[i])\n",
    "  if i%2 == 0:\n",
    "    x_blue.append(x_point[i])\n",
    "    y_blue.append(y_point[i])\n",
    "\n",
    "plt.scatter(x_red,y_red,color='red')\n",
    "plt.scatter(x_blue,y_blue,color='blue')\n",
    "plt.show()"
   ]
  },
  {
   "cell_type": "code",
   "execution_count": 3,
   "metadata": {},
   "outputs": [
    {
     "data": {
      "image/png": "[encoded data removed]",
      "text/plain": [
       "<Figure size 432x288 with 1 Axes>"
      ]
     },
     "metadata": {
      "needs_background": "light"
     },
     "output_type": "display_data"
    }
   ],
   "source": [
    "#from plotingTools.point import Point\n",
    "#from plotingTools.plotter import plot2\n",
    "#from knn.testKNN import dataKnown1,dataKnown2,dataStart\n",
    "#from typing import List, Tuple\n",
    "import matplotlib.pyplot as plt\n",
    "import numpy as np\n",
    "import matplotlib.cm as cm\n",
    "\n",
    "#1. Lav en class Point, der repræsenterer et punkt som initialiseres et tilfældigt sted på skærmen \n",
    "# og som har en label i form af en farve (rød/blå eller kat/hund…). Dette udgør mængden\n",
    "point_count = 10\n",
    "x_point = [np.random.randint(1,20) for n in range(point_count)]\n",
    "y_point = [np.random.randint(1,20) for n in range(point_count)]\n",
    "x_red = []\n",
    "y_red = []\n",
    "x_blue = []\n",
    "y_blue = []\n",
    "for i in range(0,point_count):\n",
    "  if i%2 == 1:\n",
    "    x_red.append(x_point[i])\n",
    "    y_red.append(y_point[i])\n",
    "  if i%2 == 0:\n",
    "    x_blue.append(x_point[i])\n",
    "    y_blue.append(y_point[i])\n",
    "\n",
    "plt.scatter(x_red,y_red,color='red')\n",
    "plt.scatter(x_blue,y_blue,color='blue')\n",
    "plt.show()\n",
    "#2. Lav en liste af disse Point punkter og visualiser dem på skærmen med forskellige farver\n"
   ]
  },
  {
   "cell_type": "code",
   "execution_count": null,
   "metadata": {},
   "outputs": [
    {
     "name": "stdout",
     "output_type": "stream",
     "text": [
      "3\n"
     ]
    }
   ],
   "source": [
    "print((1==1) +(1==1)+ (1==1))"
   ]
  },
  {
   "cell_type": "code",
   "execution_count": 4,
   "metadata": {},
   "outputs": [],
   "source": [
    "plt.show()"
   ]
  },
  {
   "cell_type": "code",
   "execution_count": null,
   "metadata": {},
   "outputs": [],
   "source": []
  }
 ],
 "metadata": {
  "kernelspec": {
   "display_name": "Python 3.9.12 ('base')",
   "language": "python",
   "name": "python3"
  },
  "language_info": {
   "codemirror_mode": {
    "name": "ipython",
    "version": 3
   },
   "file_extension": ".py",
   "mimetype": "text/x-python",
   "name": "python",
   "nbconvert_exporter": "python",
   "pygments_lexer": "ipython3",
   "version": "3.9.12"
  },
  "orig_nbformat": 4,
  "vscode": {
   "interpreter": {
    "hash": "fb833273add3e7c60eb33c0608260b79a61e072ade6f02cc8d07b0a26eef8ab8"
   }
  }
 },
 "nbformat": 4,
 "nbformat_minor": 2
}
