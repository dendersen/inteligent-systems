{
 "cells": [
  {
   "cell_type": "markdown",
   "metadata": {},
   "source": [
    "# Del 1 Visualisering af 1-NN ved brug af Python og maplotlib\n",
    "* 1. Class Point, som initialiseres på skærmen med et lable.\n",
    "\n",
    "vi har lavet classen point() som finddes i plottingTools.point();"
   ]
  },
  {
   "cell_type": "code",
   "execution_count": 3,
   "metadata": {},
   "outputs": [
    {
     "ename": "ImportError",
     "evalue": "cannot import name 'plotn' from partially initialized module 'plotingTools.plotter' (most likely due to a circular import) (c:\\programering\\inteligent systems\\plotingTools\\plotter.py)",
     "output_type": "error",
     "traceback": [
      "\u001b[1;31m---------------------------------------------------------------------------\u001b[0m",
      "\u001b[1;31mImportError\u001b[0m                               Traceback (most recent call last)",
      "\u001b[1;32mc:\\programering\\inteligent systems\\del opgaver.ipynb Cell 2\u001b[0m in \u001b[0;36m<cell line: 6>\u001b[1;34m()\u001b[0m\n\u001b[0;32m      <a href='vscode-notebook-cell:/c%3A/programering/inteligent%20systems/del%20opgaver.ipynb#W1sZmlsZQ%3D%3D?line=3'>4</a>\u001b[0m \u001b[39mimport\u001b[39;00m \u001b[39mmatplotlib\u001b[39;00m\u001b[39m.\u001b[39;00m\u001b[39mpyplot\u001b[39;00m \u001b[39mas\u001b[39;00m \u001b[39mplt\u001b[39;00m\n\u001b[0;32m      <a href='vscode-notebook-cell:/c%3A/programering/inteligent%20systems/del%20opgaver.ipynb#W1sZmlsZQ%3D%3D?line=4'>5</a>\u001b[0m \u001b[39mfrom\u001b[39;00m \u001b[39mplotingTools\u001b[39;00m\u001b[39m.\u001b[39;00m\u001b[39mcolorList\u001b[39;00m \u001b[39mimport\u001b[39;00m colors\n\u001b[1;32m----> <a href='vscode-notebook-cell:/c%3A/programering/inteligent%20systems/del%20opgaver.ipynb#W1sZmlsZQ%3D%3D?line=5'>6</a>\u001b[0m \u001b[39mfrom\u001b[39;00m \u001b[39mplotingTools\u001b[39;00m\u001b[39m.\u001b[39;00m\u001b[39mplotter\u001b[39;00m \u001b[39mimport\u001b[39;00m plotn\n",
      "File \u001b[1;32mc:\\programering\\inteligent systems\\plotingTools\\plotter.py:6\u001b[0m, in \u001b[0;36m<module>\u001b[1;34m\u001b[0m\n\u001b[0;32m      4\u001b[0m \u001b[39mfrom\u001b[39;00m \u001b[39mnumpy\u001b[39;00m \u001b[39mimport\u001b[39;00m arange\n\u001b[0;32m      5\u001b[0m \u001b[39mfrom\u001b[39;00m \u001b[39mplotingTools\u001b[39;00m\u001b[39m.\u001b[39;00m\u001b[39mpoint\u001b[39;00m \u001b[39mimport\u001b[39;00m Point\n\u001b[1;32m----> 6\u001b[0m \u001b[39mfrom\u001b[39;00m \u001b[39mknn\u001b[39;00m \u001b[39mimport\u001b[39;00m knn\n\u001b[0;32m      7\u001b[0m \u001b[39m#Funktion for x,y-værdier\u001b[39;00m\n\u001b[0;32m      8\u001b[0m \u001b[39mdef\u001b[39;00m \u001b[39mplot2\u001b[39m (Type1:List[Point],Type2: List[Point]) \u001b[39m-\u001b[39m\u001b[39m>\u001b[39m \u001b[39mNone\u001b[39;00m:\n\u001b[0;32m      9\u001b[0m   \u001b[39m#type1[0] giver liste over x af type 1\u001b[39;00m\n\u001b[0;32m     10\u001b[0m   \u001b[39m#type1[1] giver liste over y af type 1\u001b[39;00m\n\u001b[1;32m   (...)\u001b[0m\n\u001b[0;32m     13\u001b[0m   \u001b[39m#----------------\u001b[39;00m\n\u001b[0;32m     14\u001b[0m   \u001b[39m#Combine values for x and y\u001b[39;00m\n",
      "File \u001b[1;32mc:\\programering\\inteligent systems\\knn\\knn.py:2\u001b[0m, in \u001b[0;36m<module>\u001b[1;34m\u001b[0m\n\u001b[0;32m      1\u001b[0m \u001b[39mfrom\u001b[39;00m \u001b[39mplotingTools\u001b[39;00m\u001b[39m.\u001b[39;00m\u001b[39mpoint\u001b[39;00m \u001b[39mimport\u001b[39;00m Point \u001b[39mas\u001b[39;00m Point\n\u001b[1;32m----> 2\u001b[0m \u001b[39mfrom\u001b[39;00m \u001b[39mplotingTools\u001b[39;00m\u001b[39m.\u001b[39;00m\u001b[39mplotter\u001b[39;00m \u001b[39mimport\u001b[39;00m plotn,plot1,plot3D\n\u001b[0;32m      3\u001b[0m \u001b[39mfrom\u001b[39;00m \u001b[39mplotingTools\u001b[39;00m\u001b[39m.\u001b[39;00m\u001b[39mcolorList\u001b[39;00m \u001b[39mimport\u001b[39;00m colors\n\u001b[0;32m      4\u001b[0m \u001b[39mimport\u001b[39;00m \u001b[39mknn\u001b[39;00m\u001b[39m.\u001b[39;00m\u001b[39mdistanceStorage\u001b[39;00m \u001b[39mas\u001b[39;00m \u001b[39mdist\u001b[39;00m\n",
      "\u001b[1;31mImportError\u001b[0m: cannot import name 'plotn' from partially initialized module 'plotingTools.plotter' (most likely due to a circular import) (c:\\programering\\inteligent systems\\plotingTools\\plotter.py)"
     ]
    }
   ],
   "source": [
    "from random import randint\n",
    "\n",
    "from plotingTools.point import Point\n",
    "import matplotlib.pyplot as plt\n",
    "from plotingTools.colorList import colors\n",
    "from plotingTools.plotter import plotn"
   ]
  },
  {
   "cell_type": "markdown",
   "metadata": {},
   "source": [
    "* 2. Lav en liste af disse Point punkter og visualiser dem på skærmen med forskellige farver"
   ]
  },
  {
   "cell_type": "code",
   "execution_count": null,
   "metadata": {},
   "outputs": [
    {
     "data": {
      "image/png": "[encoded data removed]",
      "text/plain": [
       "<Figure size 432x288 with 1 Axes>"
      ]
     },
     "metadata": {
      "needs_background": "light"
     },
     "output_type": "display_data"
    }
   ],
   "source": [
    "dist = 10\n",
    "\n",
    "arr = [Point(randint(0,dist),randint(0,dist),colors[randint(0,1)]) for i in range(0,dist)]\n",
    "\n",
    "plotn(arr)"
   ]
  },
  {
   "cell_type": "markdown",
   "metadata": {},
   "source": [
    "* 3. Generer nu et nyt punkt p, som du kender placering på men ikke kender label/farve på."
   ]
  },
  {
   "cell_type": "code",
   "execution_count": null,
   "metadata": {},
   "outputs": [
    {
     "name": "stdout",
     "output_type": "stream",
     "text": [
      "2 3\n"
     ]
    }
   ],
   "source": [
    "p = Point(randint(0,dist),randint(0,dist))\n",
    "print(p.x,p.y)"
   ]
  },
  {
   "cell_type": "markdown",
   "metadata": {},
   "source": [
    "* 4. Implementer en funktion 1NN, der finder det nærmest punkt og farvelæg p udfra samme farve som nærmeste nabo"
   ]
  },
  {
   "cell_type": "code",
   "execution_count": null,
   "metadata": {},
   "outputs": [
    {
     "data": {
      "image/png": "[encoded data removed]",
      "text/plain": [
       "<Figure size 432x288 with 1 Axes>"
      ]
     },
     "metadata": {
      "needs_background": "light"
     },
     "output_type": "display_data"
    }
   ],
   "source": [
    "from knn.knn import Knn\n",
    "\n",
    "K = Knn(arr.copy(),1)\n",
    "K.UpdateDataset([p])\n",
    "K.runData()\n",
    "K.visualize()"
   ]
  },
  {
   "cell_type": "markdown",
   "metadata": {},
   "source": [
    "* 5. Udvid programmet, så det ikke kun består af to farver men et vilkårligt antal."
   ]
  },
  {
   "cell_type": "code",
   "execution_count": null,
   "metadata": {},
   "outputs": [
    {
     "data": {
      "image/png": "[encoded data removed]",
      "text/plain": [
       "<Figure size 432x288 with 1 Axes>"
      ]
     },
     "metadata": {
      "needs_background": "light"
     },
     "output_type": "display_data"
    }
   ],
   "source": [
    "dist = 100\n",
    "arr = [Point(randint(0,dist),randint(0,dist),colors[randint(0,randint(0,len(colors)-1))]) for i in range(0,dist)]\n",
    "\n",
    "plotn(arr)"
   ]
  },
  {
   "cell_type": "markdown",
   "metadata": {},
   "source": [
    "# Del 2: 2.\tkNN-algoritmen, den euklidiske distance og det virkelige datasæt\n",
    "* 1. Beregn den euklidiske distance fra alle andre punkter til p"
   ]
  },
  {
   "cell_type": "code",
   "execution_count": null,
   "metadata": {},
   "outputs": [
    {
     "name": "stdout",
     "output_type": "stream",
     "text": [
      "[96.54014708917737, 84.62860036654276, 30.0, 80.4114419718985, 91.54780172128658, 78.00640999302557, 78.00640999302557, 58.0, 71.78439941937245, 48.093658625644196, 77.10382610480494, 98.47842403288143, 118.86967653695369, 83.6719785830358, 13.152946437965905, 75.07329751649384, 25.238858928247925, 13.0, 118.92854997854805, 41.23105625617661, 28.160255680657446, 25.179356624028344, 106.02358228243375, 85.58621384311844, 36.124783736376884, 58.9406481131655, 70.21395872616783, 83.54639429682169, 74.33034373659252, 61.61168720299745, 23.706539182259394, 133.73481222179961, 14.0, 57.38466694161429, 112.8007092176286, 21.095023109728988, 45.617978911828175, 64.35060217278468, 42.05948168962618, 53.71219600798314, 87.02298546935747, 86.53323061113575, 108.18964830333815, 34.785054261852174, 98.49365461794989, 81.41252974819048, 88.54942122905152, 75.16648189186454, 83.00602387778854, 45.0111097397076, 68.18357573492314, 63.812224534175265, 97.45255255764212, 81.15417426109393, 48.373546489791295, 78.71467461661771, 83.95236744726142, 80.11242100947892, 79.2464510246358, 52.20153254455275, 93.43446901438462, 86.45229898620394, 92.78469701410896, 91.67878707749138, 104.7377677822093, 107.81465577554843, 55.731499172371095, 89.09545442950498, 93.94147114027967, 38.948684188300895, 93.13431161500041, 67.89698078707183, 88.23831367382311, 65.0, 92.97311439335567, 68.62215385719105, 74.33034373659252, 68.42514157822401, 99.82484660644363, 98.4733466477097, 88.11923740024082, 60.876925020897694, 83.40863264674707, 102.88342918079665, 39.319206502675, 27.202941017470888, 118.92854997854805, 75.8023746329889, 60.40695324215582, 42.01190307520001, 97.01546268507923, 93.77632963600144, 98.73702446397704, 87.45856161634491, 112.0714058089752, 70.71067811865476, 46.2709412050371, 61.00819617067857, 65.0, 106.23088063270491]\n"
     ]
    }
   ],
   "source": [
    "from math import sqrt\n",
    "arrDist = [p.euclid(i) for i in arr]\n",
    "print(arrDist)"
   ]
  },
  {
   "cell_type": "markdown",
   "metadata": {},
   "source": [
    "* 2. Sorter listen ud fra distancen til p\n"
   ]
  },
  {
   "cell_type": "code",
   "execution_count": null,
   "metadata": {},
   "outputs": [
    {
     "name": "stdout",
     "output_type": "stream",
     "text": [
      "(7, 15) (15, 5) (2, 17) (20, 14) (23, 14) (27, 6) (16, 24) (28, 11) (5, 31) (20, 27) (13, 36) (29, 27) (21, 37) (41, 8) (40, 19) (44, 4) (39, 23) (47, 2) (43, 23) (7, 49) (50, 0) (50, 9) (17, 53) (49, 29) (11, 58) (24, 56) (44, 43) (59, 18) (9, 63) (43, 48) (63, 4) (38, 53) (36, 57) (47, 49) (62, 28) (41, 55) (51, 50) (7, 71) (63, 34) (49, 53) (59, 44) (72, 13) (25, 71) (73, 25) (72, 28) (58, 53) (51, 60) (13, 78) (6, 80) (80, 4) (80, 2) (38, 73) (80, 17) (35, 76) (77, 32) (7, 84) (40, 75) (79, 34) (53, 69) (84, 19) (37, 79) (84, 21) (71, 52) (64, 62) (77, 46) (50, 75) (0, 90) (70, 58) (89, 17) (57, 72) (81, 43) (65, 66) (72, 62) (84, 44) (49, 83) (90, 33) (95, 8) (11, 96) (37, 90) (85, 47) (96, 25) (98, 17) (63, 79) (83, 59) (19, 100) (28, 98) (57, 85) (76, 70) (39, 99) (73, 80) (98, 48) (60, 92) (72, 85) (79, 79) (94, 67) (70, 93) (89, 84) (90, 83) (90, 83) (100, 94)\n"
     ]
    }
   ],
   "source": [
    "def diste(po:Point):\n",
    "  return po.euclid(p)\n",
    "arr.sort(key = diste)\n",
    "\n",
    "print(*[(i.x,i.y) for i in arr])"
   ]
  },
  {
   "cell_type": "markdown",
   "metadata": {},
   "source": [
    "* 3. Udvælg de K første punkter fra denne liste"
   ]
  },
  {
   "cell_type": "code",
   "execution_count": null,
   "metadata": {},
   "outputs": [
    {
     "name": "stdout",
     "output_type": "stream",
     "text": [
      "((7, 15), 'indigo') ((15, 5), 'pink') ((2, 17), 'maroon') ((20, 14), 'pink') ((23, 14), 'orchid') ((27, 6), 'crimson') ((16, 24), 'plum') ((28, 11), 'ivory') ((5, 31), 'violet') ((20, 27), 'yellow') ((13, 36), 'maroon') ((29, 27), 'yellow') ((21, 37), 'crimson') ((41, 8), 'coral') ((40, 19), 'red') ((44, 4), 'sienna') ((39, 23), 'coral') ((47, 2), 'yellow') ((43, 23), 'brown') ((7, 49), 'maroon') ((50, 0), 'plum') ((50, 9), 'gold') ((17, 53), 'lightgreen') ((49, 29), 'violet') ((11, 58), 'yellow') ((24, 56), 'plum') ((44, 43), 'violet') ((59, 18), 'maroon') ((9, 63), 'yellow') ((43, 48), 'fuchsia') ((63, 4), 'plum') ((38, 53), 'crimson') ((36, 57), 'plum') ((47, 49), 'orchid') ((62, 28), 'darkgreen') ((41, 55), 'black') ((51, 50), 'violet') ((7, 71), 'violet') ((63, 34), 'crimson') ((49, 53), 'indigo') ((59, 44), 'black') ((72, 13), 'orchid') ((25, 71), 'plum') ((73, 25), 'gold') ((72, 28), 'gold') ((58, 53), 'fuchsia') ((51, 60), 'tan') ((13, 78), 'yellow') ((6, 80), 'fuchsia') ((80, 4), 'indigo') ((80, 2), 'yellow') ((38, 73), 'orchid') ((80, 17), 'gold') ((35, 76), 'darkgreen') ((77, 32), 'orange') ((7, 84), 'pink') ((40, 75), 'plum') ((79, 34), 'pink') ((53, 69), 'black') ((84, 19), 'coral') ((37, 79), 'fuchsia') ((84, 21), 'orchid') ((71, 52), 'tan') ((64, 62), 'blue') ((77, 46), 'sienna') ((50, 75), 'violet') ((0, 90), 'tan') ((70, 58), 'yellow') ((89, 17), 'indigo') ((57, 72), 'fuchsia') ((81, 43), 'yellow') ((65, 66), 'beige') ((72, 62), 'beige') ((84, 44), 'darkgreen') ((49, 83), 'yellow') ((90, 33), 'fuchsia') ((95, 8), 'maroon') ((11, 96), 'sienna') ((37, 90), 'crimson') ((85, 47), 'beige') ((96, 25), 'yellow') ((98, 17), 'yellow') ((63, 79), 'black') ((83, 59), 'violet') ((19, 100), 'crimson') ((28, 98), 'yellow') ((57, 85), 'ivory') ((76, 70), 'ivory') ((39, 99), 'grey') ((73, 80), 'fuchsia') ((98, 48), 'indigo') ((60, 92), 'yellow') ((72, 85), 'pink') ((79, 79), 'ivory') ((94, 67), 'orchid') ((70, 93), 'yellow') ((89, 84), 'gold') ((90, 83), 'gold') ((90, 83), 'crimson') ((100, 94), 'orchid')\n"
     ]
    }
   ],
   "source": [
    "from typing import List\n",
    "\n",
    "\n",
    "k = 1111\n",
    "arrSo:List[Point] = []\n",
    "for i in zip(arr,range(0,k)):\n",
    "  arrSo.append(i[0])\n",
    "print(*[((i.x,i.y),i.features[0]) for i in arrSo])"
   ]
  },
  {
   "cell_type": "markdown",
   "metadata": {},
   "source": [
    "* 4. Lav en afstemning dvs. find ud af hvilken label der er flest af blandt de K udtagne punkter."
   ]
  },
  {
   "cell_type": "code",
   "execution_count": null,
   "metadata": {},
   "outputs": [
    {
     "name": "stdout",
     "output_type": "stream",
     "text": [
      "(15, 'yellow') (5, 'maroon') (7, 'violet') (7, 'plum') (7, 'crimson') (7, 'fuchsia') (5, 'indigo') (5, 'pink') (3, 'beige') (6, 'gold') (3, 'coral') (7, 'orchid') (3, 'tan') (4, 'ivory') (3, 'darkgreen') (4, 'black') (3, 'sienna') (1, 'grey') (1, 'red') (1, 'brown') (1, 'lightgreen') (1, 'blue') (1, 'orange')\n"
     ]
    }
   ],
   "source": [
    "Args = [0]*len(colors)\n",
    "for l in arrSo:\n",
    "  for i,j in enumerate(colors):\n",
    "    if j == l.features[0]:\n",
    "      Args[i] +=1\n",
    "      break\n",
    "args:List[Point] = []\n",
    "for i in zip(Args,colors):\n",
    "  if i[0] != 0:\n",
    "    args.append(i)\n",
    "print(*args)"
   ]
  },
  {
   "cell_type": "markdown",
   "metadata": {},
   "source": [
    "* 5. Farvelæg p ud fra dette"
   ]
  },
  {
   "cell_type": "code",
   "execution_count": null,
   "metadata": {},
   "outputs": [
    {
     "name": "stdout",
     "output_type": "stream",
     "text": [
      "((2, 3), 'yellow')\n"
     ]
    }
   ],
   "source": [
    "p.color = args[0][1]\n",
    "print(((p.x,p.y),p.features[0]))"
   ]
  },
  {
   "cell_type": "markdown",
   "metadata": {},
   "source": [
    "* 6. Udvid koden så den nu også kan inddrage punkter med flere forskellige labels."
   ]
  },
  {
   "cell_type": "code",
   "execution_count": null,
   "metadata": {},
   "outputs": [],
   "source": []
  },
  {
   "cell_type": "markdown",
   "metadata": {},
   "source": [
    "* 7. Udvælg et virkeligt datasæt bestående af en kolonne med feauteres og 1 kolonne med mulighed for flere labels. Indlæs og afprøv din KNN algoritme på casen."
   ]
  },
  {
   "cell_type": "code",
   "execution_count": null,
   "metadata": {},
   "outputs": [],
   "source": []
  },
  {
   "cell_type": "markdown",
   "metadata": {},
   "source": [
    "* 8. Konstruer en visualisering af valg af K. Hvor du har K ud af x-aksen og antal korrekte klassificeringer op ad y-aksen. Prøv den af i praksis."
   ]
  },
  {
   "cell_type": "code",
   "execution_count": null,
   "metadata": {},
   "outputs": [],
   "source": []
  },
  {
   "cell_type": "markdown",
   "metadata": {},
   "source": [
    "# Del 3: De tre forskellige distancemetrikker Manhattan, Minkowski og Chebyshev\n",
    "* Indtil nu har vi kun gjort brug af den euklidiske distance. I det følgende skal implementeres mindst tre forskellige distancefunktioner. Tryk på linket for at få nogle eksempler på nogle af disse funktioner. Overvej styrker og svagheder ved disse."
   ]
  },
  {
   "cell_type": "code",
   "execution_count": null,
   "metadata": {},
   "outputs": [],
   "source": []
  },
  {
   "cell_type": "markdown",
   "metadata": {},
   "source": [
    "# Del 4: Implementering af kNN-algoritmen i numpy\n",
    "* I denne øvelse skal du prøve at implementere kNN i numpy, hvis du har mod på det (dvs. helt frivillig men hvis du har tid til overs så kig på den). Hvis du synes det er for svært, så prøv at forstå følgende kode og prøv den af i praksis:"
   ]
  },
  {
   "cell_type": "code",
   "execution_count": null,
   "metadata": {},
   "outputs": [],
   "source": []
  },
  {
   "cell_type": "markdown",
   "metadata": {},
   "source": [
    "# Del 5: Praktisk brug af kNN-algoritmen, den optimale k-værdi og dets fordele/ulemper\n",
    "* 1. Udvælge relevante træningsdata og testdata, som I indlæser."
   ]
  },
  {
   "cell_type": "code",
   "execution_count": null,
   "metadata": {},
   "outputs": [],
   "source": []
  },
  {
   "cell_type": "markdown",
   "metadata": {},
   "source": [
    "* 2. Separere features og labels for træningsdata og tilsvarende for testdata."
   ]
  },
  {
   "cell_type": "code",
   "execution_count": null,
   "metadata": {},
   "outputs": [],
   "source": []
  },
  {
   "cell_type": "markdown",
   "metadata": {},
   "source": [
    "* 3. Afprøves KNN med mindst to forskellige distancemetrikker"
   ]
  },
  {
   "cell_type": "code",
   "execution_count": null,
   "metadata": {},
   "outputs": [],
   "source": []
  },
  {
   "cell_type": "markdown",
   "metadata": {},
   "source": [
    "* 4. Plottes i matplotlib en graf med k fra 2 til 50 ud af x-aksen og den respektive accuracy score opad y-aksen for den respektive k-værdi."
   ]
  },
  {
   "cell_type": "code",
   "execution_count": null,
   "metadata": {},
   "outputs": [],
   "source": []
  },
  {
   "cell_type": "markdown",
   "metadata": {},
   "source": [
    "* 5. Argumenter for valg af den optimale K."
   ]
  },
  {
   "cell_type": "code",
   "execution_count": null,
   "metadata": {},
   "outputs": [],
   "source": []
  },
  {
   "cell_type": "markdown",
   "metadata": {},
   "source": [
    "* 6. Overvej hvorledes man kunne lave en vægtet KNN. Dvs. hvor man tager højde for at datapunkterne kan have forskellige vægte (i 2D kunne det illustreres med radier). Prøv at implementer det i praksis. (Frivillig opgave)"
   ]
  },
  {
   "cell_type": "code",
   "execution_count": null,
   "metadata": {},
   "outputs": [],
   "source": []
  }
 ],
 "metadata": {
  "kernelspec": {
   "display_name": "Python 3.9.12 ('base')",
   "language": "python",
   "name": "python3"
  },
  "language_info": {
   "codemirror_mode": {
    "name": "ipython",
    "version": 3
   },
   "file_extension": ".py",
   "mimetype": "text/x-python",
   "name": "python",
   "nbconvert_exporter": "python",
   "pygments_lexer": "ipython3",
   "version": "3.9.12"
  },
  "orig_nbformat": 4,
  "vscode": {
   "interpreter": {
    "hash": "a077222d77dfe082b8f1dd562ad70e458ac2ab76993a0b248ab0476e32e9e8dd"
   }
  }
 },
 "nbformat": 4,
 "nbformat_minor": 2
}
