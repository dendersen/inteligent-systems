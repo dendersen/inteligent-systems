{
 "cells": [
  {
   "cell_type": "markdown",
   "metadata": {},
   "source": [
    "# Del 1 Visualisering af 1-NN ved brug af Python og maplotlib\n",
    "* 1. Class Point, som initialiseres på skærmen med et lable.\n",
    "\n",
    "vi har lavet classen point() som finddes i plottingTools.point();"
   ]
  },
  {
   "cell_type": "code",
   "execution_count": 3,
   "metadata": {},
   "outputs": [
    {
     "ename": "IndexError",
     "evalue": "tuple index out of range",
     "output_type": "error",
     "traceback": [
      "\u001b[1;31m---------------------------------------------------------------------------\u001b[0m",
      "\u001b[1;31mIndexError\u001b[0m                                Traceback (most recent call last)",
      "\u001b[1;32mc:\\DDU2\\kNN-algorithm\\inteligent-systems\\del opgaver.ipynb Cell 2\u001b[0m in \u001b[0;36m<cell line: 8>\u001b[1;34m()\u001b[0m\n\u001b[0;32m      <a href='vscode-notebook-cell:/c%3A/DDU2/kNN-algorithm/inteligent-systems/del%20opgaver.ipynb#W1sZmlsZQ%3D%3D?line=4'>5</a>\u001b[0m \u001b[39mfrom\u001b[39;00m \u001b[39mplotingTools\u001b[39;00m\u001b[39m.\u001b[39;00m\u001b[39mcolorList\u001b[39;00m \u001b[39mimport\u001b[39;00m colors\n\u001b[0;32m      <a href='vscode-notebook-cell:/c%3A/DDU2/kNN-algorithm/inteligent-systems/del%20opgaver.ipynb#W1sZmlsZQ%3D%3D?line=5'>6</a>\u001b[0m \u001b[39mfrom\u001b[39;00m \u001b[39mplotingTools\u001b[39;00m\u001b[39m.\u001b[39;00m\u001b[39mplotter\u001b[39;00m \u001b[39mimport\u001b[39;00m plotn\n\u001b[1;32m----> <a href='vscode-notebook-cell:/c%3A/DDU2/kNN-algorithm/inteligent-systems/del%20opgaver.ipynb#W1sZmlsZQ%3D%3D?line=7'>8</a>\u001b[0m arr \u001b[39m=\u001b[39m [Point(randint(\u001b[39m0\u001b[39m,\u001b[39m100\u001b[39m),randint(\u001b[39m0\u001b[39m,\u001b[39m100\u001b[39m),colors[randint(\u001b[39m0\u001b[39m,\u001b[39mlen\u001b[39m(colors))]) \u001b[39mfor\u001b[39;00m i \u001b[39min\u001b[39;00m \u001b[39mrange\u001b[39m(\u001b[39m0\u001b[39m,\u001b[39m100\u001b[39m)]\n\u001b[0;32m     <a href='vscode-notebook-cell:/c%3A/DDU2/kNN-algorithm/inteligent-systems/del%20opgaver.ipynb#W1sZmlsZQ%3D%3D?line=9'>10</a>\u001b[0m plotn(arr)\n",
      "\u001b[1;32mc:\\DDU2\\kNN-algorithm\\inteligent-systems\\del opgaver.ipynb Cell 2\u001b[0m in \u001b[0;36m<listcomp>\u001b[1;34m(.0)\u001b[0m\n\u001b[0;32m      <a href='vscode-notebook-cell:/c%3A/DDU2/kNN-algorithm/inteligent-systems/del%20opgaver.ipynb#W1sZmlsZQ%3D%3D?line=4'>5</a>\u001b[0m \u001b[39mfrom\u001b[39;00m \u001b[39mplotingTools\u001b[39;00m\u001b[39m.\u001b[39;00m\u001b[39mcolorList\u001b[39;00m \u001b[39mimport\u001b[39;00m colors\n\u001b[0;32m      <a href='vscode-notebook-cell:/c%3A/DDU2/kNN-algorithm/inteligent-systems/del%20opgaver.ipynb#W1sZmlsZQ%3D%3D?line=5'>6</a>\u001b[0m \u001b[39mfrom\u001b[39;00m \u001b[39mplotingTools\u001b[39;00m\u001b[39m.\u001b[39;00m\u001b[39mplotter\u001b[39;00m \u001b[39mimport\u001b[39;00m plotn\n\u001b[1;32m----> <a href='vscode-notebook-cell:/c%3A/DDU2/kNN-algorithm/inteligent-systems/del%20opgaver.ipynb#W1sZmlsZQ%3D%3D?line=7'>8</a>\u001b[0m arr \u001b[39m=\u001b[39m [Point(randint(\u001b[39m0\u001b[39m,\u001b[39m100\u001b[39m),randint(\u001b[39m0\u001b[39m,\u001b[39m100\u001b[39m),colors[randint(\u001b[39m0\u001b[39;49m,\u001b[39mlen\u001b[39;49m(colors))]) \u001b[39mfor\u001b[39;00m i \u001b[39min\u001b[39;00m \u001b[39mrange\u001b[39m(\u001b[39m0\u001b[39m,\u001b[39m100\u001b[39m)]\n\u001b[0;32m     <a href='vscode-notebook-cell:/c%3A/DDU2/kNN-algorithm/inteligent-systems/del%20opgaver.ipynb#W1sZmlsZQ%3D%3D?line=9'>10</a>\u001b[0m plotn(arr)\n",
      "\u001b[1;31mIndexError\u001b[0m: tuple index out of range"
     ]
    }
   ],
   "source": [
    "from random import randint\n",
    "\n",
    "from plotingTools.point import Point\n",
    "import matplotlib.pyplot as plt\n",
    "from plotingTools.colorList import colors\n",
    "from plotingTools.plotter import plotn\n",
    "\n",
    "arr = [Point(randint(0,100),randint(0,100),colors[randint(0,len(colors))]) for i in range(0,100)]\n",
    "\n",
    "plotn(arr)"
   ]
  },
  {
   "cell_type": "code",
   "execution_count": null,
   "metadata": {},
   "outputs": [],
   "source": []
  }
 ],
 "metadata": {
  "kernelspec": {
   "display_name": "Python 3.10.7 64-bit (microsoft store)",
   "language": "python",
   "name": "python3"
  },
  "language_info": {
   "codemirror_mode": {
    "name": "ipython",
    "version": 3
   },
   "file_extension": ".py",
   "mimetype": "text/x-python",
   "name": "python",
   "nbconvert_exporter": "python",
   "pygments_lexer": "ipython3",
   "version": "3.10.7"
  },
  "orig_nbformat": 4,
  "vscode": {
   "interpreter": {
    "hash": "aa82987a71ca0339a52998cd22613b0c002bda8349fa32a0cb67ceec3936a2bf"
   }
  }
 },
 "nbformat": 4,
 "nbformat_minor": 2
}
